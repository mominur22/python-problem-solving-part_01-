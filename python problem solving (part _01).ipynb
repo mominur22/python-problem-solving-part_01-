{
 "cells": [
  {
   "cell_type": "markdown",
   "id": "1bdca9b2",
   "metadata": {},
   "source": [
    "# 1. Variable Swap:\n"
   ]
  },
  {
   "cell_type": "code",
   "execution_count": 2,
   "id": "23b32150",
   "metadata": {},
   "outputs": [
    {
     "name": "stdout",
     "output_type": "stream",
     "text": [
      "A= 20 And B= 30\n",
      "A= 30 And B= 20\n"
     ]
    }
   ],
   "source": [
    "# Python program to swap the values of two variables without using a temporary variable.\n",
    "a=20\n",
    "b=30\n",
    "print(\"A=\",a,\"And B=\",b)\n",
    "a=a+b #50\n",
    "b=a-b  #50-30\n",
    "a=a-b # 50-20\n",
    "print(\"A=\",a,\"And B=\",b)"
   ]
  },
  {
   "cell_type": "markdown",
   "id": "396ba538",
   "metadata": {},
   "source": [
    "# 2. Even or Odd:"
   ]
  },
  {
   "cell_type": "code",
   "execution_count": null,
   "id": "4f8d20f5",
   "metadata": {},
   "outputs": [],
   "source": [
    "variable= input(\"Enter an integer: \")\n",
    "\n",
    "# Convert the input to an integer (assuming the user enters a valid integer)\n",
    "number = int(variable)\n",
    "\n",
    "# Check if the number is even or odd#  and i used formating\n",
    "if number % 2 == 0:\n",
    "    print(f\"{number} is an even number:\")\n",
    "else:\n",
    "    print(f\"{number} is an odd number:\")"
   ]
  },
  {
   "cell_type": "markdown",
   "id": "8b1a4f16",
   "metadata": {},
   "source": [
    "# 3. String Reverse: "
   ]
  },
  {
   "cell_type": "code",
   "execution_count": null,
   "id": "8c402611",
   "metadata": {},
   "outputs": [],
   "source": [
    "def reverse_string(input_string):\n",
    "    # i Used slicing, to reverse the string\n",
    "    reversed_string = input_string[::-1]\n",
    "    return reversed_string\n",
    "user_input = input(\"Enter a string: \")\n",
    "result = reverse_string(user_input)\n",
    "print(\"Reversed string:\", result)"
   ]
  },
  {
   "cell_type": "markdown",
   "id": "5556cc17",
   "metadata": {},
   "source": [
    "# 4. Type Conversion: "
   ]
  },
  {
   "cell_type": "code",
   "execution_count": null,
   "id": "752b235a",
   "metadata": {},
   "outputs": [],
   "source": [
    "# Input list integer\n",
    "integer_li = [1, 2, 3, 4, 5]\n",
    "\n",
    "# Convert each element to a string using list comprehension\n",
    "string_li = [str(num) for num in integer_li]\n",
    "\n",
    "# Orginal & converted lists\n",
    "print(\"Original list of integers:\", integer_li)\n",
    "print(\"List of integers converted to strings:\", string_li)"
   ]
  },
  {
   "cell_type": "markdown",
   "id": "e0d0e01e",
   "metadata": {},
   "source": [
    "# 5. Temperature Converter:"
   ]
  },
  {
   "cell_type": "code",
   "execution_count": null,
   "id": "9a8004c7",
   "metadata": {},
   "outputs": [],
   "source": [
    "celsius_temperature = float(input(\"Enter the temperature in Celsius:\"))\n",
    "\n",
    "# Convert Celsius to Fahrenheit\n",
    "fahrenheit_temperature = (celsius_temperature * 9/5) + 32\n",
    "\n",
    "# the result\n",
    "print(f\"{celsius_temperature} degrees Celsius is equal to {fahrenheit_temperature:.2f} degrees Fahrenheit.\")"
   ]
  },
  {
   "cell_type": "code",
   "execution_count": null,
   "id": "af78c16c",
   "metadata": {},
   "outputs": [],
   "source": []
  }
 ],
 "metadata": {
  "kernelspec": {
   "display_name": "Python 3 (ipykernel)",
   "language": "python",
   "name": "python3"
  },
  "language_info": {
   "codemirror_mode": {
    "name": "ipython",
    "version": 3
   },
   "file_extension": ".py",
   "mimetype": "text/x-python",
   "name": "python",
   "nbconvert_exporter": "python",
   "pygments_lexer": "ipython3",
   "version": "3.11.5"
  }
 },
 "nbformat": 4,
 "nbformat_minor": 5
}
